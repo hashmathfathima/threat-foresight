{
  "nbformat": 4,
  "nbformat_minor": 0,
  "metadata": {
    "colab": {
      "provenance": []
    },
    "kernelspec": {
      "name": "python3",
      "display_name": "Python 3"
    },
    "language_info": {
      "name": "python"
    }
  },
  "cells": [
    {
      "cell_type": "code",
      "source": [
        "!pip install pandas openpyxl"
      ],
      "metadata": {
        "colab": {
          "base_uri": "https://localhost:8080/"
        },
        "id": "lRp3YsfPGqbj",
        "outputId": "3354e193-6dfd-487e-9236-56f4a7b8fc5e"
      },
      "execution_count": null,
      "outputs": [
        {
          "output_type": "stream",
          "name": "stdout",
          "text": [
            "Requirement already satisfied: pandas in /usr/local/lib/python3.10/dist-packages (2.1.4)\n",
            "Requirement already satisfied: openpyxl in /usr/local/lib/python3.10/dist-packages (3.1.5)\n",
            "Requirement already satisfied: numpy<2,>=1.22.4 in /usr/local/lib/python3.10/dist-packages (from pandas) (1.26.4)\n",
            "Requirement already satisfied: python-dateutil>=2.8.2 in /usr/local/lib/python3.10/dist-packages (from pandas) (2.8.2)\n",
            "Requirement already satisfied: pytz>=2020.1 in /usr/local/lib/python3.10/dist-packages (from pandas) (2024.1)\n",
            "Requirement already satisfied: tzdata>=2022.1 in /usr/local/lib/python3.10/dist-packages (from pandas) (2024.1)\n",
            "Requirement already satisfied: et-xmlfile in /usr/local/lib/python3.10/dist-packages (from openpyxl) (1.1.0)\n",
            "Requirement already satisfied: six>=1.5 in /usr/local/lib/python3.10/dist-packages (from python-dateutil>=2.8.2->pandas) (1.16.0)\n"
          ]
        }
      ]
    },
    {
      "cell_type": "code",
      "source": [
        "from google.colab import drive\n",
        "drive.mount('/content/drive')\n"
      ],
      "metadata": {
        "colab": {
          "base_uri": "https://localhost:8080/"
        },
        "id": "-hbf5JLhHG-Z",
        "outputId": "3ce6e312-883e-412e-b2aa-c03c70d28e9d"
      },
      "execution_count": null,
      "outputs": [
        {
          "output_type": "stream",
          "name": "stdout",
          "text": [
            "Drive already mounted at /content/drive; to attempt to forcibly remount, call drive.mount(\"/content/drive\", force_remount=True).\n"
          ]
        }
      ]
    },
    {
      "cell_type": "code",
      "source": [
        "import pandas as pd\n",
        "import numpy as np\n",
        "from datetime import datetime, timedelta\n",
        "import re\n",
        "\n",
        "def extract_hashtags(text):\n",
        "    \"\"\"Extract hashtags from text.\"\"\"\n",
        "    return re.findall(r\"#(\\w+)\", text)\n",
        "\n",
        "\n",
        "# Set the path to the Excel file on Google Drive\n",
        "file_path = 'TWEETS.xlsx'  # Adjust the path as necessary\n",
        "\n",
        "df = pd.read_excel(file_path)\n",
        "\n",
        "# Extract hashtags and add them as a new column\n",
        "df['Hashtags'] = df['Tweet'].apply(extract_hashtags)\n",
        "\n",
        "# Set the start date 240 days back and define the period\n",
        "start_date = datetime.now() - timedelta(days=240)\n",
        "end_date = datetime.now()\n",
        "\n",
        "# Generate random dates within the period using Poisson distribution\n",
        "lambda_poisson = len(df) / 240  # Average rate (lambda) - total tweets divided by the number of days\n",
        "days = np.random.poisson(lambda_poisson, len(df))  # Generate random inter-arrival times\n",
        "days = np.cumsum(days)  # Convert to actual days by cumulative sum to simulate the timeline\n",
        "\n",
        "# Ensure that days do not exceed the end_date by looping over them\n",
        "dates = [min(start_date + timedelta(days=int(day)), end_date) for day in days]\n",
        "\n",
        "# Shuffle the dates to randomize the order\n",
        "np.random.shuffle(dates)\n",
        "\n",
        "# Assign these dates to the dataframe\n",
        "df['Timestamp'] = dates\n",
        "\n",
        "# Define the path to save the updated Excel file on Google Drive\n",
        "output_file_path = '/content/drive/MyDrive/updated_tweets.xlsx'  # Adjust the path as necessary\n",
        "\n",
        "df.to_excel(output_file_path, index=False)\n",
        "\n",
        "print(f\"Updated Excel file with hashtags and timestamps saved to {output_file_path}\")\n"
      ],
      "metadata": {
        "colab": {
          "base_uri": "https://localhost:8080/"
        },
        "id": "sBSMPo95GqeH",
        "outputId": "e4706817-8663-4d66-9cdf-a6d278bb4bc7"
      },
      "execution_count": null,
      "outputs": [
        {
          "output_type": "stream",
          "name": "stderr",
          "text": [
            "/usr/local/lib/python3.10/dist-packages/ipykernel/ipkernel.py:283: DeprecationWarning: `should_run_async` will not call `transform_cell` automatically in the future. Please pass the result to `transformed_cell` argument and any exception that happen during thetransform in `preprocessing_exc_tuple` in IPython 7.17 and above.\n",
            "  and should_run_async(code)\n"
          ]
        },
        {
          "output_type": "stream",
          "name": "stdout",
          "text": [
            "Updated Excel file with hashtags and timestamps saved to /content/drive/MyDrive/updated_tweets.xlsx\n"
          ]
        }
      ]
    },
    {
      "cell_type": "code",
      "source": [
        "file_path = '/content/drive/MyDrive/updated_tweets.xlsx'  # Update the path if needed\n",
        "df = pd.read_excel(file_path)\n",
        "\n",
        "# Display the first few rows of the dataframe\n",
        "print(df.head())"
      ],
      "metadata": {
        "colab": {
          "base_uri": "https://localhost:8080/"
        },
        "id": "6p0hUCD2Gqgm",
        "outputId": "78a6f01c-1fdc-44f7-c741-5e1610887e38"
      },
      "execution_count": null,
      "outputs": [
        {
          "output_type": "stream",
          "name": "stdout",
          "text": [
            "         Username                                              Tweet  \\\n",
            "0  @CyberSleuth99  Just heard about the massive #databreach at Gl...   \n",
            "1     @SecureGuru  Another day, another #ransomware attack. This ...   \n",
            "2  @PhishingAlert  Warning! Phishing emails disguised as OnlineRe...   \n",
            "3  @NetDefenderHQ  Major DDoS attack reported against VideoStream...   \n",
            "4  @ThreatHunterX  Malware found in OpenOffice. Users, patch ASAP...   \n",
            "\n",
            "                                     Hashtags               Timestamp  \n",
            "0  ['databreach', 'cybersecurity', 'infosec'] 2024-08-14 19:33:22.170  \n",
            "1                              ['ransomware'] 2024-08-14 19:33:22.170  \n",
            "2                              ['cyberaware'] 2024-08-14 19:33:22.170  \n",
            "3                     ['DDoS', 'cyberattack'] 2024-08-14 19:33:22.170  \n",
            "4                ['malware', 'cybersecurity'] 2024-06-05 19:33:22.170  \n"
          ]
        },
        {
          "output_type": "stream",
          "name": "stderr",
          "text": [
            "/usr/local/lib/python3.10/dist-packages/ipykernel/ipkernel.py:283: DeprecationWarning: `should_run_async` will not call `transform_cell` automatically in the future. Please pass the result to `transformed_cell` argument and any exception that happen during thetransform in `preprocessing_exc_tuple` in IPython 7.17 and above.\n",
            "  and should_run_async(code)\n"
          ]
        }
      ]
    },
    {
      "cell_type": "code",
      "source": [
        "import matplotlib.pyplot as plt\n",
        "\n",
        "# Convert 'Timestamp' to datetime\n",
        "df['Timestamp'] = pd.to_datetime(df['Timestamp'])\n",
        "\n",
        "# Create a time series plot of tweets over time\n",
        "df.set_index('Timestamp').resample('W').size().plot(title='Tweet Frequency Over Time', ylabel='Number of Tweets', xlabel='Date')\n",
        "plt.show()\n"
      ],
      "metadata": {
        "colab": {
          "base_uri": "https://localhost:8080/",
          "height": 543
        },
        "id": "2hubEML-GqjA",
        "outputId": "7b887a54-05a8-48f4-fbf2-a6c382e36aa6"
      },
      "execution_count": null,
      "outputs": [
        {
          "output_type": "stream",
          "name": "stderr",
          "text": [
            "/usr/local/lib/python3.10/dist-packages/ipykernel/ipkernel.py:283: DeprecationWarning: `should_run_async` will not call `transform_cell` automatically in the future. Please pass the result to `transformed_cell` argument and any exception that happen during thetransform in `preprocessing_exc_tuple` in IPython 7.17 and above.\n",
            "  and should_run_async(code)\n"
          ]
        },
        {
          "output_type": "display_data",
          "data": {
            "text/plain": [
              "<Figure size 640x480 with 1 Axes>"
            ],
            "image/png": "[encoded data removed]"
          },
          "metadata": {}
        }
      ]
    },
    {
      "cell_type": "code",
      "source": [
        "from itertools import chain\n",
        "\n",
        "# Create a list of all hashtags\n",
        "all_hashtags = list(chain.from_iterable(df['Hashtags'].dropna().apply(eval)))\n",
        "\n",
        "# Count frequencies of each hashtag\n",
        "hashtag_counts = pd.Series(all_hashtags).value_counts()\n",
        "\n",
        "# Plot the top 10 hashtags\n",
        "hashtag_counts.head(10).plot(kind='bar', title='Top 10 Hashtags', ylabel='Frequency', xlabel='Hashtag')\n",
        "plt.show()\n"
      ],
      "metadata": {
        "colab": {
          "base_uri": "https://localhost:8080/",
          "height": 615
        },
        "id": "M8bDFsOGGqln",
        "outputId": "11f6235f-a8f7-44ec-8005-bda1a4bf8991"
      },
      "execution_count": null,
      "outputs": [
        {
          "output_type": "stream",
          "name": "stderr",
          "text": [
            "/usr/local/lib/python3.10/dist-packages/ipykernel/ipkernel.py:283: DeprecationWarning: `should_run_async` will not call `transform_cell` automatically in the future. Please pass the result to `transformed_cell` argument and any exception that happen during thetransform in `preprocessing_exc_tuple` in IPython 7.17 and above.\n",
            "  and should_run_async(code)\n"
          ]
        },
        {
          "output_type": "display_data",
          "data": {
            "text/plain": [
              "<Figure size 640x480 with 1 Axes>"
            ],
            "image/png": "[encoded data removed]"
          },
          "metadata": {}
        }
      ]
    },
    {
      "cell_type": "code",
      "source": [
        "import pandas as pd\n",
        "import re\n",
        "import gensim\n",
        "from gensim import corpora\n",
        "from gensim.models import LdaModel\n",
        "from gensim.corpora import Dictionary\n",
        "from nltk.corpus import stopwords\n",
        "from nltk.stem import WordNetLemmatizer\n",
        "\n",
        "# Download NLTK resources if not already available\n",
        "import nltk\n",
        "nltk.download('stopwords')\n",
        "nltk.download('wordnet')\n",
        "\n",
        "# Load the tweets data\n",
        "file_path = '/content/drive/MyDrive/updated_tweets.xlsx'\n",
        "df = pd.read_excel(file_path)\n",
        "\n",
        "# Text preprocessing functions\n",
        "def preprocess_text(text):\n",
        "    \"\"\"Preprocess text by removing punctuation, lowering case, removing stopwords, and lemmatizing.\"\"\"\n",
        "    text = re.sub(r'\\s+', ' ', text)  # Replace multiple spaces with a single space\n",
        "    text = re.sub(r'[^\\w\\s]', '', text)  # Remove punctuation\n",
        "    text = text.lower()  # Convert to lower case\n",
        "    tokens = text.split()  # Tokenize\n",
        "    tokens = [word for word in tokens if word not in stop_words]  # Remove stop words\n",
        "    tokens = [lemmatizer.lemmatize(word) for word in tokens]  # Lemmatize\n",
        "    return tokens\n",
        "\n",
        "# Initialize stop words and lemmatizer\n",
        "stop_words = set(stopwords.words('english'))\n",
        "lemmatizer = WordNetLemmatizer()\n",
        "\n",
        "# Apply preprocessing\n",
        "df['Processed_Tweet'] = df['Tweet'].apply(preprocess_text)\n",
        "\n",
        "# Prepare data for Gensim\n",
        "texts = df['Processed_Tweet'].tolist()\n"
      ],
      "metadata": {
        "colab": {
          "base_uri": "https://localhost:8080/"
        },
        "id": "VRReYqyqGqsx",
        "outputId": "044eb33c-3b17-4bbe-f79d-0c57dad5ad2a"
      },
      "execution_count": null,
      "outputs": [
        {
          "output_type": "stream",
          "name": "stderr",
          "text": [
            "/usr/local/lib/python3.10/dist-packages/ipykernel/ipkernel.py:283: DeprecationWarning: `should_run_async` will not call `transform_cell` automatically in the future. Please pass the result to `transformed_cell` argument and any exception that happen during thetransform in `preprocessing_exc_tuple` in IPython 7.17 and above.\n",
            "  and should_run_async(code)\n",
            "[nltk_data] Downloading package stopwords to /root/nltk_data...\n",
            "[nltk_data]   Package stopwords is already up-to-date!\n",
            "[nltk_data] Downloading package wordnet to /root/nltk_data...\n",
            "[nltk_data]   Package wordnet is already up-to-date!\n"
          ]
        }
      ]
    },
    {
      "cell_type": "code",
      "source": [
        "# Create a dictionary from the processed tweets\n",
        "dictionary = Dictionary(texts)\n",
        "\n",
        "# Create a corpus: a list of bag-of-words representations of the tweets\n",
        "corpus = [dictionary.doc2bow(text) for text in texts]\n",
        "\n",
        "print(f\"Dictionary size: {len(dictionary)}\")\n",
        "print(f\"Corpus length: {len(corpus)}\")\n"
      ],
      "metadata": {
        "colab": {
          "base_uri": "https://localhost:8080/"
        },
        "id": "JrFjtXJzGqvD",
        "outputId": "8b40a39b-d557-4a0d-f069-2483cd7fcc70"
      },
      "execution_count": null,
      "outputs": [
        {
          "output_type": "stream",
          "name": "stdout",
          "text": [
            "Dictionary size: 1340\n",
            "Corpus length: 524\n"
          ]
        },
        {
          "output_type": "stream",
          "name": "stderr",
          "text": [
            "/usr/local/lib/python3.10/dist-packages/ipykernel/ipkernel.py:283: DeprecationWarning: `should_run_async` will not call `transform_cell` automatically in the future. Please pass the result to `transformed_cell` argument and any exception that happen during thetransform in `preprocessing_exc_tuple` in IPython 7.17 and above.\n",
            "  and should_run_async(code)\n"
          ]
        }
      ]
    },
    {
      "cell_type": "code",
      "source": [
        "# Define number of topics\n",
        "num_topics = 5  # Adjust based on your needs\n",
        "\n",
        "# Train the LDA model\n",
        "lda_model = LdaModel(corpus, num_topics=num_topics, id2word=dictionary, passes=15)\n",
        "\n",
        "# Extract topics and their labels\n",
        "topics = lda_model.show_topics(num_topics=num_topics, formatted=False)\n",
        "topic_labels = {}\n",
        "for topic_id, topic_words in topics:\n",
        "    topic_labels[topic_id] = ' '.join([word for word, _ in topic_words])\n",
        "\n",
        "# Function to get the most relevant topic for a document\n",
        "def get_dominant_topic(doc_bow):\n",
        "    \"\"\"Get the dominant topic for a given document.\"\"\"\n",
        "    topic_dist = lda_model.get_document_topics(doc_bow)\n",
        "    if topic_dist:\n",
        "        # Sort by topic probability and get the topic with highest probability\n",
        "        dominant_topic = max(topic_dist, key=lambda x: x[1])\n",
        "        topic_id = dominant_topic[0]\n",
        "        return topic_labels.get(topic_id, 'Unknown')\n",
        "    return 'Unknown'\n",
        "\n",
        "# Assign topics to each tweet\n",
        "df['Dominant_Topic'] = df['Processed_Tweet'].apply(lambda x: get_dominant_topic(dictionary.doc2bow(x)))\n",
        "\n",
        "# List of countries to randomly assign\n",
        "countries = [\"United States\", \"Canada\", \"Brazil\", \"United Kingdom\", \"France\", \"Germany\", \"Italy\", \"Spain\", \"Portugal\", \"Sweden\",\n",
        "             \"Norway\", \"Russia\", \"China\", \"Japan\", \"South Korea\", \"Australia\", \"New Zealand\", \"India\", \"Pakistan\", \"Bangladesh\",\n",
        "             \"Indonesia\", \"Philippines\", \"Vietnam\", \"South Africa\", \"Nigeria\", \"Egypt\", \"Turkey\", \"Iran\", \"Mexico\", \"Chile\",\n",
        "             \"Argentina\", \"Colombia\", \"Peru\", \"Venezuela\", \"Saudi Arabia\"]\n",
        "\n",
        "# Assign random countries to each tweet\n",
        "df['Country'] = [random.choice(countries) for _ in df.index]\n",
        "\n",
        "# Save the updated DataFrame to a CSV file\n",
        "output_csv_path = '/content/drive/MyDrive/tweet_topic_labels.csv'\n",
        "df.to_csv(output_csv_path, index=False)\n",
        "\n",
        "print(f\"Updated CSV file with topics and random countries saved to {output_csv_path}\")"
      ],
      "metadata": {
        "colab": {
          "base_uri": "https://localhost:8080/"
        },
        "id": "EahO7fJVGqxS",
        "outputId": "237b5671-22d2-43b7-a786-05ff0fb167d5"
      },
      "execution_count": null,
      "outputs": [
        {
          "output_type": "stream",
          "name": "stderr",
          "text": [
            "/usr/local/lib/python3.10/dist-packages/ipykernel/ipkernel.py:283: DeprecationWarning: `should_run_async` will not call `transform_cell` automatically in the future. Please pass the result to `transformed_cell` argument and any exception that happen during thetransform in `preprocessing_exc_tuple` in IPython 7.17 and above.\n",
            "  and should_run_async(code)\n"
          ]
        },
        {
          "output_type": "stream",
          "name": "stdout",
          "text": [
            "Updated CSV file with topics and random countries saved to /content/drive/MyDrive/tweet_topic_labels.csv\n"
          ]
        }
      ]
    },
    {
      "cell_type": "code",
      "source": [
        "!pip install pyLDAvis\n"
      ],
      "metadata": {
        "colab": {
          "base_uri": "https://localhost:8080/"
        },
        "id": "eSTFqCEsVHop",
        "outputId": "5d42d4b6-b0f8-4c10-963a-eb09b0e879f7"
      },
      "execution_count": null,
      "outputs": [
        {
          "output_type": "stream",
          "name": "stdout",
          "text": [
            "Collecting pyLDAvis\n",
            "  Downloading pyLDAvis-3.4.1-py3-none-any.whl.metadata (4.2 kB)\n",
            "Requirement already satisfied: numpy>=1.24.2 in /usr/local/lib/python3.10/dist-packages (from pyLDAvis) (1.26.4)\n",
            "Requirement already satisfied: scipy in /usr/local/lib/python3.10/dist-packages (from pyLDAvis) (1.13.1)\n",
            "Requirement already satisfied: pandas>=2.0.0 in /usr/local/lib/python3.10/dist-packages (from pyLDAvis) (2.1.4)\n",
            "Requirement already satisfied: joblib>=1.2.0 in /usr/local/lib/python3.10/dist-packages (from pyLDAvis) (1.4.2)\n",
            "Requirement already satisfied: jinja2 in /usr/local/lib/python3.10/dist-packages (from pyLDAvis) (3.1.4)\n",
            "Requirement already satisfied: numexpr in /usr/local/lib/python3.10/dist-packages (from pyLDAvis) (2.10.1)\n",
            "Collecting funcy (from pyLDAvis)\n",
            "  Downloading funcy-2.0-py2.py3-none-any.whl.metadata (5.9 kB)\n",
            "Requirement already satisfied: scikit-learn>=1.0.0 in /usr/local/lib/python3.10/dist-packages (from pyLDAvis) (1.3.2)\n",
            "Requirement already satisfied: gensim in /usr/local/lib/python3.10/dist-packages (from pyLDAvis) (4.3.3)\n",
            "Requirement already satisfied: setuptools in /usr/local/lib/python3.10/dist-packages (from pyLDAvis) (71.0.4)\n",
            "Requirement already satisfied: python-dateutil>=2.8.2 in /usr/local/lib/python3.10/dist-packages (from pandas>=2.0.0->pyLDAvis) (2.8.2)\n",
            "Requirement already satisfied: pytz>=2020.1 in /usr/local/lib/python3.10/dist-packages (from pandas>=2.0.0->pyLDAvis) (2024.1)\n",
            "Requirement already satisfied: tzdata>=2022.1 in /usr/local/lib/python3.10/dist-packages (from pandas>=2.0.0->pyLDAvis) (2024.1)\n",
            "Requirement already satisfied: threadpoolctl>=2.0.0 in /usr/local/lib/python3.10/dist-packages (from scikit-learn>=1.0.0->pyLDAvis) (3.5.0)\n",
            "Requirement already satisfied: smart-open>=1.8.1 in /usr/local/lib/python3.10/dist-packages (from gensim->pyLDAvis) (7.0.4)\n",
            "Requirement already satisfied: MarkupSafe>=2.0 in /usr/local/lib/python3.10/dist-packages (from jinja2->pyLDAvis) (2.1.5)\n",
            "Requirement already satisfied: six>=1.5 in /usr/local/lib/python3.10/dist-packages (from python-dateutil>=2.8.2->pandas>=2.0.0->pyLDAvis) (1.16.0)\n",
            "Requirement already satisfied: wrapt in /usr/local/lib/python3.10/dist-packages (from smart-open>=1.8.1->gensim->pyLDAvis) (1.16.0)\n",
            "Downloading pyLDAvis-3.4.1-py3-none-any.whl (2.6 MB)\n",
            "\u001b[2K   \u001b[90m━━━━━━━━━━━━━━━━━━━━━━━━━━━━━━━━━━━━━━━━\u001b[0m \u001b[32m2.6/2.6 MB\u001b[0m \u001b[31m27.2 MB/s\u001b[0m eta \u001b[36m0:00:00\u001b[0m\n",
            "\u001b[?25hDownloading funcy-2.0-py2.py3-none-any.whl (30 kB)\n",
            "Installing collected packages: funcy, pyLDAvis\n",
            "Successfully installed funcy-2.0 pyLDAvis-3.4.1\n"
          ]
        }
      ]
    },
    {
      "cell_type": "code",
      "source": [
        "import pyLDAvis\n",
        "import pyLDAvis.gensim_models\n",
        "\n",
        "# Prepare the visualization\n",
        "vis = pyLDAvis.gensim_models.prepare(lda_model, corpus, dictionary)\n",
        "\n",
        "# Display the visualization\n",
        "pyLDAvis.display(vis)\n",
        "\n",
        "# Save the visualization to an HTML file\n",
        "pyLDAvis.save_html(vis, '/content/drive/MyDrive/lda_visualization.html')\n",
        "\n",
        "print(\"Topic modeling visualization saved to /content/drive/MyDrive/lda_visualization.html\")\n"
      ],
      "metadata": {
        "colab": {
          "base_uri": "https://localhost:8080/"
        },
        "id": "dGAP7rUhGqzv",
        "outputId": "dc169121-7e2e-493f-b7d8-6bdec228a707"
      },
      "execution_count": null,
      "outputs": [
        {
          "output_type": "stream",
          "name": "stdout",
          "text": [
            "Topic modeling visualization saved to /content/drive/MyDrive/lda_visualization.html\n"
          ]
        }
      ]
    },
    {
      "cell_type": "code",
      "source": [
        "import pandas as pd\n",
        "import re\n",
        "import gensim\n",
        "from gensim import corpora\n",
        "from gensim.models import LdaModel\n",
        "from gensim.corpora import Dictionary\n",
        "from nltk.corpus import stopwords\n",
        "from nltk.stem import WordNetLemmatizer\n",
        "import nltk\n",
        "\n",
        "# Download NLTK resources if not already available\n",
        "nltk.download('stopwords')\n",
        "nltk.download('wordnet')\n",
        "\n",
        "# Load the tweets data\n",
        "file_path = '/content/drive/MyDrive/updated_tweets.xlsx'\n",
        "df = pd.read_excel(file_path)\n",
        "\n",
        "# Initialize stop words and lemmatizer\n",
        "stop_words = set(stopwords.words('english'))\n",
        "lemmatizer = WordNetLemmatizer()\n",
        "\n",
        "# Text preprocessing function\n",
        "def preprocess_text(text):\n",
        "    \"\"\"Preprocess text by removing punctuation, lowering case, removing stopwords, and lemmatizing.\"\"\"\n",
        "    text = re.sub(r'\\s+', ' ', text)  # Replace multiple spaces with a single space\n",
        "    text = re.sub(r'[^\\w\\s]', '', text)  # Remove punctuation\n",
        "    text = text.lower()  # Convert to lower case\n",
        "    tokens = text.split()  # Tokenize\n",
        "    tokens = [word for word in tokens if word not in stop_words]  # Remove stop words\n",
        "    tokens = [lemmatizer.lemmatize(word) for word in tokens]  # Lemmatize\n",
        "    return tokens\n",
        "\n",
        "# Apply preprocessing\n",
        "df['Processed_Tweet'] = df['Tweet'].apply(preprocess_text)\n",
        "\n",
        "# Prepare data for Gensim\n",
        "texts = df['Processed_Tweet'].tolist()\n",
        "\n",
        "# Create a dictionary and corpus\n",
        "dictionary = Dictionary(texts)\n",
        "corpus = [dictionary.doc2bow(text) for text in texts]\n",
        "\n",
        "# Define number of topics\n",
        "num_topics = 5  # Adjust based on your needs\n",
        "\n",
        "# Train the LDA model\n",
        "lda_model = LdaModel(corpus, num_topics=num_topics, id2word=dictionary, passes=15)\n",
        "\n",
        "# Extract topics and their labels\n",
        "topics = lda_model.show_topics(num_topics=num_topics, formatted=False)\n",
        "topic_labels = {}\n",
        "for topic_id, topic_words in topics:\n",
        "    topic_labels[topic_id] = ' '.join([word for word, _ in topic_words])\n",
        "\n",
        "# Function to get the most relevant topic for a document\n",
        "def get_dominant_topic(doc_bow):\n",
        "    \"\"\"Get the dominant topic for a given document.\"\"\"\n",
        "    topic_dist = lda_model.get_document_topics(doc_bow)\n",
        "    if topic_dist:\n",
        "        # Sort by topic probability and get the topic with highest probability\n",
        "        dominant_topic = max(topic_dist, key=lambda x: x[1])\n",
        "        topic_id = dominant_topic[0]\n",
        "        return topic_labels.get(topic_id, 'Unknown')\n",
        "    return 'Unknown'\n",
        "\n",
        "# Assign topics to each tweet\n",
        "df['Dominant_Topic'] = df['Processed_Tweet'].apply(lambda x: get_dominant_topic(dictionary.doc2bow(x)))\n",
        "\n",
        "# Save the updated DataFrame to a CSV file\n",
        "output_csv_path = '/content/drive/MyDrive/tweet_topic_labels.csv'\n",
        "df.to_csv(output_csv_path, index=False)\n",
        "\n",
        "print(f\"Updated CSV file with topics saved to {output_csv_path}\")\n"
      ],
      "metadata": {
        "colab": {
          "base_uri": "https://localhost:8080/"
        },
        "id": "-knkYVuVU38S",
        "outputId": "3288ba30-f23f-4e35-f8fe-ad3bcd11b3e1"
      },
      "execution_count": null,
      "outputs": [
        {
          "output_type": "stream",
          "name": "stderr",
          "text": [
            "/usr/local/lib/python3.10/dist-packages/ipykernel/ipkernel.py:283: DeprecationWarning: `should_run_async` will not call `transform_cell` automatically in the future. Please pass the result to `transformed_cell` argument and any exception that happen during thetransform in `preprocessing_exc_tuple` in IPython 7.17 and above.\n",
            "  and should_run_async(code)\n",
            "[nltk_data] Downloading package stopwords to /root/nltk_data...\n",
            "[nltk_data]   Package stopwords is already up-to-date!\n",
            "[nltk_data] Downloading package wordnet to /root/nltk_data...\n",
            "[nltk_data]   Package wordnet is already up-to-date!\n"
          ]
        },
        {
          "output_type": "stream",
          "name": "stdout",
          "text": [
            "Updated CSV file with topics saved to /content/drive/MyDrive/tweet_topic_labels.csv\n"
          ]
        }
      ]
    },
    {
      "cell_type": "code",
      "source": [
        "import pandas as pd\n",
        "import numpy as np\n",
        "import re\n",
        "import gensim\n",
        "from gensim import corpora\n",
        "from gensim.models import LdaModel\n",
        "from gensim.corpora import Dictionary\n",
        "from nltk.corpus import stopwords\n",
        "from nltk.stem import WordNetLemmatizer\n",
        "import nltk\n",
        "\n",
        "# Download NLTK resources if not already available\n",
        "nltk.download('stopwords')\n",
        "nltk.download('wordnet')\n",
        "\n",
        "# Load the tweets data\n",
        "file_path = '/content/drive/MyDrive/updated_tweets.xlsx'\n",
        "df = pd.read_excel(file_path)\n",
        "\n",
        "# Initialize stop words and lemmatizer\n",
        "stop_words = set(stopwords.words('english'))\n",
        "lemmatizer = WordNetLemmatizer()\n",
        "\n",
        "# Text preprocessing function\n",
        "def preprocess_text(text):\n",
        "    \"\"\"Preprocess text by removing punctuation, lowering case, removing stopwords, and lemmatizing.\"\"\"\n",
        "    text = re.sub(r'\\s+', ' ', text)  # Replace multiple spaces with a single space\n",
        "    text = re.sub(r'[^\\w\\s]', '', text)  # Remove punctuation\n",
        "    text = text.lower()  # Convert to lower case\n",
        "    tokens = text.split()  # Tokenize\n",
        "    tokens = [word for word in tokens if word not in stop_words]  # Remove stop words\n",
        "    tokens = [lemmatizer.lemmatize(word) for word in tokens]  # Lemmatize\n",
        "    return tokens\n",
        "\n",
        "# Apply preprocessing\n",
        "df['Processed_Tweet'] = df['Tweet'].apply(preprocess_text)\n",
        "\n",
        "# Prepare data for Gensim\n",
        "texts = df['Processed_Tweet'].tolist()\n",
        "\n",
        "# Create a dictionary and corpus\n",
        "dictionary = Dictionary(texts)\n",
        "corpus = [dictionary.doc2bow(text) for text in texts]\n",
        "\n",
        "# Define number of topics\n",
        "num_topics = 5  # Adjust based on your needs\n",
        "\n",
        "# Train the LDA model\n",
        "lda_model = LdaModel(corpus, num_topics=num_topics, id2word=dictionary, passes=15)\n",
        "\n",
        "# Extract topics and their labels\n",
        "topics = lda_model.show_topics(num_topics=num_topics, formatted=False)\n",
        "topic_labels = {}\n",
        "for topic_id, topic_words in topics:\n",
        "    topic_labels[topic_id] = ' '.join([word for word, _ in topic_words])\n",
        "\n",
        "# Assign topics to documents\n",
        "def get_document_topics(bow):\n",
        "    \"\"\"Get the topic distribution for a single document.\"\"\"\n",
        "    return lda_model.get_document_topics(bow)\n",
        "\n",
        "# Create a list to store results\n",
        "results = []\n",
        "for index, row in df.iterrows():\n",
        "    doc_bow = dictionary.doc2bow(row['Processed_Tweet'])\n",
        "    topic_dist = get_document_topics(doc_bow)\n",
        "    topic_probabilities = {f'Topic_{i}': 0 for i in range(num_topics)}\n",
        "    for topic_id, prob in topic_dist:\n",
        "        topic_probabilities[f'Topic_{topic_id}'] = prob\n",
        "    result = {'Tweet': row['Tweet'], 'Topic_Label': ' | '.join([f'Topic_{topic_id}: {prob:.2f}' for topic_id, prob in topic_dist])}\n",
        "    result.update(topic_probabilities)\n",
        "    results.append(result)\n",
        "\n",
        "# Create DataFrame\n",
        "topic_df = pd.DataFrame(results)\n",
        "\n",
        "# Save DataFrame to CSV\n",
        "csv_file_path = '/content/drive/MyDrive/tweet_topic_labels.csv'\n",
        "topic_df.to_csv(csv_file_path, index=False)\n",
        "\n",
        "print(f\"Topic labeled CSV file saved to {csv_file_path}\")\n"
      ],
      "metadata": {
        "colab": {
          "base_uri": "https://localhost:8080/"
        },
        "id": "fwnTRvPj_Ve0",
        "outputId": "50198fdb-2f2d-4f88-c106-67a328c908ed"
      },
      "execution_count": null,
      "outputs": [
        {
          "output_type": "stream",
          "name": "stderr",
          "text": [
            "/usr/local/lib/python3.10/dist-packages/ipykernel/ipkernel.py:283: DeprecationWarning: `should_run_async` will not call `transform_cell` automatically in the future. Please pass the result to `transformed_cell` argument and any exception that happen during thetransform in `preprocessing_exc_tuple` in IPython 7.17 and above.\n",
            "  and should_run_async(code)\n",
            "[nltk_data] Downloading package stopwords to /root/nltk_data...\n",
            "[nltk_data]   Package stopwords is already up-to-date!\n",
            "[nltk_data] Downloading package wordnet to /root/nltk_data...\n",
            "[nltk_data]   Package wordnet is already up-to-date!\n"
          ]
        },
        {
          "output_type": "stream",
          "name": "stdout",
          "text": [
            "Topic labeled CSV file saved to /content/drive/MyDrive/tweet_topic_labels.csv\n"
          ]
        }
      ]
    },
    {
      "cell_type": "code",
      "source": [
        "import pandas as pd\n",
        "import numpy as np\n",
        "import re\n",
        "import gensim\n",
        "from gensim import corpora\n",
        "from gensim.models import LdaModel\n",
        "from gensim.corpora import Dictionary\n",
        "from nltk.corpus import stopwords\n",
        "from nltk.stem import WordNetLemmatizer\n",
        "import nltk\n",
        "\n",
        "# Download NLTK resources if not already available\n",
        "nltk.download('stopwords')\n",
        "nltk.download('wordnet')\n",
        "\n",
        "# Load the tweets data\n",
        "file_path = '/content/drive/MyDrive/updated_tweets.xlsx'\n",
        "df = pd.read_excel(file_path)\n",
        "\n",
        "# Initialize stop words and lemmatizer\n",
        "stop_words = set(stopwords.words('english'))\n",
        "lemmatizer = WordNetLemmatizer()\n",
        "\n",
        "# Text preprocessing function\n",
        "def preprocess_text(text):\n",
        "    \"\"\"Preprocess text by removing punctuation, lowering case, removing stopwords, and lemmatizing.\"\"\"\n",
        "    text = re.sub(r'\\s+', ' ', text)  # Replace multiple spaces with a single space\n",
        "    text = re.sub(r'[^\\w\\s]', '', text)  # Remove punctuation\n",
        "    text = text.lower()  # Convert to lower case\n",
        "    tokens = text.split()  # Tokenize\n",
        "    tokens = [word for word in tokens if word not in stop_words]  # Remove stop words\n",
        "    tokens = [lemmatizer.lemmatize(word) for word in tokens]  # Lemmatize\n",
        "    return tokens\n",
        "\n",
        "# Apply preprocessing\n",
        "df['Processed_Tweet'] = df['Tweet'].apply(preprocess_text)\n",
        "\n",
        "# Prepare data for Gensim\n",
        "texts = df['Processed_Tweet'].tolist()\n",
        "\n",
        "# Create a dictionary and corpus\n",
        "dictionary = Dictionary(texts)\n",
        "corpus = [dictionary.doc2bow(text) for text in texts]\n",
        "\n",
        "# Define number of topics\n",
        "num_topics = 5  # Adjust based on your needs\n",
        "\n",
        "# Train the LDA model\n",
        "lda_model = LdaModel(corpus, num_topics=num_topics, id2word=dictionary, passes=15)\n",
        "\n",
        "# Extract topics and their labels\n",
        "topics = lda_model.show_topics(num_topics=num_topics, formatted=False)\n",
        "topic_labels = {}\n",
        "for topic_id, topic_words in topics:\n",
        "    topic_labels[topic_id] = ' '.join([word for word, _ in topic_words])\n",
        "\n",
        "# Assign topics to documents\n",
        "def get_document_topics(bow):\n",
        "    \"\"\"Get the topic distribution for a single document.\"\"\"\n",
        "    return lda_model.get_document_topics(bow)\n",
        "\n",
        "# Create a list to store results\n",
        "results = []\n",
        "for index, row in df.iterrows():\n",
        "    doc_bow = dictionary.doc2bow(row['Processed_Tweet'])\n",
        "    topic_dist = get_document_topics(doc_bow)\n",
        "    topic_probabilities = {f'Topic_{i}': 0 for i in range(num_topics)}\n",
        "    for topic_id, prob in topic_dist:\n",
        "        topic_probabilities[f'Topic_{topic_id}'] = prob\n",
        "    result = {'Tweet': row['Tweet'], 'Topic_Label': ' | '.join([f'Topic_{topic_id}: {prob:.2f}' for topic_id, prob in topic_dist])}\n",
        "    result.update(topic_probabilities)\n",
        "    results.append(result)\n",
        "\n",
        "# Create DataFrame\n",
        "topic_df = pd.DataFrame(results)\n",
        "\n",
        "# Save DataFrame to CSV\n",
        "csv_file_path = '/content/drive/MyDrive/tweet_topic_labels.csv'\n",
        "topic_df.to_csv(csv_file_path, index=False)\n",
        "\n",
        "print(f\"Topic labeled CSV file saved to {csv_file_path}\")\n"
      ],
      "metadata": {
        "colab": {
          "base_uri": "https://localhost:8080/"
        },
        "id": "eqpUd4bQDMTQ",
        "outputId": "3f5709d4-0ac7-4c34-cab2-0893dd3face3"
      },
      "execution_count": null,
      "outputs": [
        {
          "output_type": "stream",
          "name": "stderr",
          "text": [
            "/usr/local/lib/python3.10/dist-packages/ipykernel/ipkernel.py:283: DeprecationWarning: `should_run_async` will not call `transform_cell` automatically in the future. Please pass the result to `transformed_cell` argument and any exception that happen during thetransform in `preprocessing_exc_tuple` in IPython 7.17 and above.\n",
            "  and should_run_async(code)\n",
            "[nltk_data] Downloading package stopwords to /root/nltk_data...\n",
            "[nltk_data]   Package stopwords is already up-to-date!\n",
            "[nltk_data] Downloading package wordnet to /root/nltk_data...\n",
            "[nltk_data]   Package wordnet is already up-to-date!\n"
          ]
        },
        {
          "output_type": "stream",
          "name": "stdout",
          "text": [
            "Topic labeled CSV file saved to /content/drive/MyDrive/tweet_topic_labels.csv\n"
          ]
        }
      ]
    },
    {
      "cell_type": "code",
      "source": [],
      "metadata": {
        "id": "K-A0LGOoDzfJ"
      },
      "execution_count": null,
      "outputs": []
    }
  ]
}