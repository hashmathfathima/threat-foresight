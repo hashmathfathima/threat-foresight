{
  "nbformat": 4,
  "nbformat_minor": 0,
  "metadata": {
    "colab": {
      "provenance": []
    },
    "kernelspec": {
      "name": "python3",
      "display_name": "Python 3"
    },
    "language_info": {
      "name": "python"
    }
  },
  "cells": [
    {
      "cell_type": "code",
      "source": [
        "# PdsehbFugIlPbfIka62pDBcIU\n",
        "# zt10Azyj05HTE8kVY5hWyUiZ0AtfEhxRObvrRmGE5H1loQo3yK"
      ],
      "metadata": {
        "id": "aiaWvB5TMEo-"
      },
      "execution_count": null,
      "outputs": []
    },
    {
      "cell_type": "code",
      "execution_count": null,
      "metadata": {
        "id": "HUTaXnTZB6bP",
        "colab": {
          "base_uri": "https://localhost:8080/"
        },
        "outputId": "8820b839-99ad-4095-ef61-f5b7b1204de5"
      },
      "outputs": [
        {
          "output_type": "stream",
          "name": "stdout",
          "text": [
            "Mounted at /content/drive\n"
          ]
        }
      ],
      "source": [
        "# Mount Google Drive\n",
        "from google.colab import drive\n",
        "drive.mount('/content/drive')\n"
      ]
    },
    {
      "cell_type": "code",
      "source": [
        "!pip install pyLDAvis\n",
        "!pip install gensim"
      ],
      "metadata": {
        "colab": {
          "base_uri": "https://localhost:8080/"
        },
        "id": "-G8LFyNbFpGM",
        "outputId": "1d4a31ea-2154-4725-8c78-689009710c1d"
      },
      "execution_count": null,
      "outputs": [
        {
          "output_type": "stream",
          "name": "stdout",
          "text": [
            "Collecting pyLDAvis\n",
            "  Downloading pyLDAvis-3.4.1-py3-none-any.whl.metadata (4.2 kB)\n",
            "Requirement already satisfied: numpy>=1.24.2 in /usr/local/lib/python3.10/dist-packages (from pyLDAvis) (1.26.4)\n",
            "Requirement already satisfied: scipy in /usr/local/lib/python3.10/dist-packages (from pyLDAvis) (1.13.1)\n",
            "Requirement already satisfied: pandas>=2.0.0 in /usr/local/lib/python3.10/dist-packages (from pyLDAvis) (2.1.4)\n",
            "Requirement already satisfied: joblib>=1.2.0 in /usr/local/lib/python3.10/dist-packages (from pyLDAvis) (1.4.2)\n",
            "Requirement already satisfied: jinja2 in /usr/local/lib/python3.10/dist-packages (from pyLDAvis) (3.1.4)\n",
            "Requirement already satisfied: numexpr in /usr/local/lib/python3.10/dist-packages (from pyLDAvis) (2.10.1)\n",
            "Collecting funcy (from pyLDAvis)\n",
            "  Downloading funcy-2.0-py2.py3-none-any.whl.metadata (5.9 kB)\n",
            "Requirement already satisfied: scikit-learn>=1.0.0 in /usr/local/lib/python3.10/dist-packages (from pyLDAvis) (1.3.2)\n",
            "Requirement already satisfied: gensim in /usr/local/lib/python3.10/dist-packages (from pyLDAvis) (4.3.3)\n",
            "Requirement already satisfied: setuptools in /usr/local/lib/python3.10/dist-packages (from pyLDAvis) (71.0.4)\n",
            "Requirement already satisfied: python-dateutil>=2.8.2 in /usr/local/lib/python3.10/dist-packages (from pandas>=2.0.0->pyLDAvis) (2.8.2)\n",
            "Requirement already satisfied: pytz>=2020.1 in /usr/local/lib/python3.10/dist-packages (from pandas>=2.0.0->pyLDAvis) (2024.1)\n",
            "Requirement already satisfied: tzdata>=2022.1 in /usr/local/lib/python3.10/dist-packages (from pandas>=2.0.0->pyLDAvis) (2024.1)\n",
            "Requirement already satisfied: threadpoolctl>=2.0.0 in /usr/local/lib/python3.10/dist-packages (from scikit-learn>=1.0.0->pyLDAvis) (3.5.0)\n",
            "Requirement already satisfied: smart-open>=1.8.1 in /usr/local/lib/python3.10/dist-packages (from gensim->pyLDAvis) (7.0.4)\n",
            "Requirement already satisfied: MarkupSafe>=2.0 in /usr/local/lib/python3.10/dist-packages (from jinja2->pyLDAvis) (2.1.5)\n",
            "Requirement already satisfied: six>=1.5 in /usr/local/lib/python3.10/dist-packages (from python-dateutil>=2.8.2->pandas>=2.0.0->pyLDAvis) (1.16.0)\n",
            "Requirement already satisfied: wrapt in /usr/local/lib/python3.10/dist-packages (from smart-open>=1.8.1->gensim->pyLDAvis) (1.16.0)\n",
            "Downloading pyLDAvis-3.4.1-py3-none-any.whl (2.6 MB)\n",
            "\u001b[2K   \u001b[90m━━━━━━━━━━━━━━━━━━━━━━━━━━━━━━━━━━━━━━━━\u001b[0m \u001b[32m2.6/2.6 MB\u001b[0m \u001b[31m9.3 MB/s\u001b[0m eta \u001b[36m0:00:00\u001b[0m\n",
            "\u001b[?25hDownloading funcy-2.0-py2.py3-none-any.whl (30 kB)\n",
            "Installing collected packages: funcy, pyLDAvis\n",
            "Successfully installed funcy-2.0 pyLDAvis-3.4.1\n",
            "Requirement already satisfied: gensim in /usr/local/lib/python3.10/dist-packages (4.3.3)\n",
            "Requirement already satisfied: numpy<2.0,>=1.18.5 in /usr/local/lib/python3.10/dist-packages (from gensim) (1.26.4)\n",
            "Requirement already satisfied: scipy<1.14.0,>=1.7.0 in /usr/local/lib/python3.10/dist-packages (from gensim) (1.13.1)\n",
            "Requirement already satisfied: smart-open>=1.8.1 in /usr/local/lib/python3.10/dist-packages (from gensim) (7.0.4)\n",
            "Requirement already satisfied: wrapt in /usr/local/lib/python3.10/dist-packages (from smart-open>=1.8.1->gensim) (1.16.0)\n"
          ]
        }
      ]
    },
    {
      "cell_type": "code",
      "source": [
        "import pandas as pd\n",
        "import re\n",
        "from sklearn.feature_extraction.text import CountVectorizer\n",
        "from sklearn.decomposition import LatentDirichletAllocation\n",
        "from gensim.models.coherencemodel import CoherenceModel\n",
        "from gensim.corpora.dictionary import Dictionary\n",
        "import matplotlib.pyplot as plt\n",
        "import numpy as np\n",
        "import pyLDAvis\n",
        "import pyLDAvis.gensim_models\n",
        "\n",
        "# Enable pyLDAvis in notebook\n",
        "pyLDAvis.enable_notebook()"
      ],
      "metadata": {
        "id": "W8w0YUWTCAaR"
      },
      "execution_count": null,
      "outputs": []
    },
    {
      "cell_type": "code",
      "source": [
        "file_path = '/content/drive/MyDrive/data/cve/cve-processed-flattened.csv'\n",
        "\n",
        "# Specify data types for known columns to avoid DtypeWarning\n",
        "dtype_spec = {\n",
        "    'cve_id': str,\n",
        "    'sourceIdentifier': str,\n",
        "    'published': str,\n",
        "    'lastModified': str,\n",
        "    'vulnStatus': str,\n",
        "    'description': str,\n",
        "    'metrics_cvssMetricV2_baseSeverity': str,\n",
        "    'metrics_cvssMetricV2_exploitabilityScore': float,\n",
        "    'metrics_cvssMetricV2_impactScore': float,\n",
        "    'metrics_cvssMetricV2_cvssData.version': str,\n",
        "    'metrics_cvssMetricV2_cvssData.vectorString': str,\n",
        "    'metrics_cvssMetricV2_cvssData.accessVector': str,\n",
        "    'metrics_cvssMetricV2_cvssData.accessComplexity': str,\n",
        "    'metrics_cvssMetricV2_cvssData.authentication': str,\n",
        "    'metrics_cvssMetricV2_cvssData.confidentialityImpact': str,\n",
        "    'metrics_cvssMetricV2_cvssData.integrityImpact': str,\n",
        "    'metrics_cvssMetricV2_cvssData.availabilityImpact': str,\n",
        "    'metrics_cvssMetricV2_cvssData.baseScore': float,\n",
        "    'references_url': str,\n",
        "    'references_source': str,\n",
        "    'published_year': int,\n",
        "    'published_month': int,\n",
        "    'published_day': int\n",
        "}\n",
        "\n",
        "data = pd.read_csv(file_path, dtype=dtype_spec)\n",
        "\n",
        "# Display the first few rows\n",
        "data.head()"
      ],
      "metadata": {
        "colab": {
          "base_uri": "https://localhost:8080/",
          "height": 551
        },
        "id": "Fhq3BgfFCF4q",
        "outputId": "009119d5-ffcf-48fd-c509-83cb09589b7b"
      },
      "execution_count": null,
      "outputs": [
        {
          "output_type": "stream",
          "name": "stderr",
          "text": [
            "/usr/local/lib/python3.10/dist-packages/ipykernel/ipkernel.py:283: DeprecationWarning: `should_run_async` will not call `transform_cell` automatically in the future. Please pass the result to `transformed_cell` argument and any exception that happen during thetransform in `preprocessing_exc_tuple` in IPython 7.17 and above.\n",
            "  and should_run_async(code)\n"
          ]
        },
        {
          "output_type": "execute_result",
          "data": {
            "text/plain": [
              "          cve_id sourceIdentifier                  published  \\\n",
              "0  CVE-1999-0001    cve@mitre.org  1999-12-30 05:00:00+00:00   \n",
              "1  CVE-1999-0001    cve@mitre.org  1999-12-30 05:00:00+00:00   \n",
              "2  CVE-1999-0002    cve@mitre.org  1998-10-12 04:00:00+00:00   \n",
              "3  CVE-1999-0002    cve@mitre.org  1998-10-12 04:00:00+00:00   \n",
              "4  CVE-1999-0002    cve@mitre.org  1998-10-12 04:00:00+00:00   \n",
              "\n",
              "                lastModified vulnStatus  \\\n",
              "0  2010-12-16 05:00:00+00:00   Analyzed   \n",
              "1  2010-12-16 05:00:00+00:00   Analyzed   \n",
              "2  2009-01-26 05:00:00+00:00   Analyzed   \n",
              "3  2009-01-26 05:00:00+00:00   Analyzed   \n",
              "4  2009-01-26 05:00:00+00:00   Analyzed   \n",
              "\n",
              "                                         description  \\\n",
              "0  ip_input.c in BSD-derived TCP/IP implementatio...   \n",
              "1  ip_input.c in BSD-derived TCP/IP implementatio...   \n",
              "2  Buffer overflow in NFS mountd gives root acces...   \n",
              "3  Buffer overflow in NFS mountd gives root acces...   \n",
              "4  Buffer overflow in NFS mountd gives root acces...   \n",
              "\n",
              "  metrics_cvssMetricV2_baseSeverity  metrics_cvssMetricV2_exploitabilityScore  \\\n",
              "0                            MEDIUM                                      10.0   \n",
              "1                            MEDIUM                                      10.0   \n",
              "2                              HIGH                                      10.0   \n",
              "3                              HIGH                                      10.0   \n",
              "4                              HIGH                                      10.0   \n",
              "\n",
              "   metrics_cvssMetricV2_impactScore metrics_cvssMetricV2_cvssData.version  \\\n",
              "0                               2.9                                   2.0   \n",
              "1                               2.9                                   2.0   \n",
              "2                              10.0                                   2.0   \n",
              "3                              10.0                                   2.0   \n",
              "4                              10.0                                   2.0   \n",
              "\n",
              "   ... metrics_cvssMetricV2_cvssData.authentication  \\\n",
              "0  ...                                         NONE   \n",
              "1  ...                                         NONE   \n",
              "2  ...                                         NONE   \n",
              "3  ...                                         NONE   \n",
              "4  ...                                         NONE   \n",
              "\n",
              "  metrics_cvssMetricV2_cvssData.confidentialityImpact  \\\n",
              "0                                               NONE    \n",
              "1                                               NONE    \n",
              "2                                           COMPLETE    \n",
              "3                                           COMPLETE    \n",
              "4                                           COMPLETE    \n",
              "\n",
              "  metrics_cvssMetricV2_cvssData.integrityImpact  \\\n",
              "0                                          NONE   \n",
              "1                                          NONE   \n",
              "2                                      COMPLETE   \n",
              "3                                      COMPLETE   \n",
              "4                                      COMPLETE   \n",
              "\n",
              "  metrics_cvssMetricV2_cvssData.availabilityImpact  \\\n",
              "0                                          PARTIAL   \n",
              "1                                          PARTIAL   \n",
              "2                                         COMPLETE   \n",
              "3                                         COMPLETE   \n",
              "4                                         COMPLETE   \n",
              "\n",
              "  metrics_cvssMetricV2_cvssData.baseScore  \\\n",
              "0                                     5.0   \n",
              "1                                     5.0   \n",
              "2                                    10.0   \n",
              "3                                    10.0   \n",
              "4                                    10.0   \n",
              "\n",
              "                                      references_url references_source  \\\n",
              "0        http://www.openbsd.org/errata23.html#tcpfix     cve@mitre.org   \n",
              "1                          http://www.osvdb.org/5707     cve@mitre.org   \n",
              "2  ftp://patches.sgi.com/support/free/security/ad...     cve@mitre.org   \n",
              "3     http://www.ciac.org/ciac/bulletins/j-006.shtml     cve@mitre.org   \n",
              "4               http://www.securityfocus.com/bid/121     cve@mitre.org   \n",
              "\n",
              "   published_year published_month published_day  \n",
              "0            1999              12            30  \n",
              "1            1999              12            30  \n",
              "2            1998              10            12  \n",
              "3            1998              10            12  \n",
              "4            1998              10            12  \n",
              "\n",
              "[5 rows x 23 columns]"
            ],
            "text/html": [
              "\n",
              "  <div id=\"df-243dbd17-25b4-43ca-9ac5-20f5fb295a70\" class=\"colab-df-container\">\n",
              "    <div>\n",
              "<style scoped>\n",
              "    .dataframe tbody tr th:only-of-type {\n",
              "        vertical-align: middle;\n",
              "    }\n",
              "\n",
              "    .dataframe tbody tr th {\n",
              "        vertical-align: top;\n",
              "    }\n",
              "\n",
              "    .dataframe thead th {\n",
              "        text-align: right;\n",
              "    }\n",
              "</style>\n",
              "<table border=\"1\" class=\"dataframe\">\n",
              "  <thead>\n",
              "    <tr style=\"text-align: right;\">\n",
              "      <th></th>\n",
              "      <th>cve_id</th>\n",
              "      <th>sourceIdentifier</th>\n",
              "      <th>published</th>\n",
              "      <th>lastModified</th>\n",
              "      <th>vulnStatus</th>\n",
              "      <th>description</th>\n",
              "      <th>metrics_cvssMetricV2_baseSeverity</th>\n",
              "      <th>metrics_cvssMetricV2_exploitabilityScore</th>\n",
              "      <th>metrics_cvssMetricV2_impactScore</th>\n",
              "      <th>metrics_cvssMetricV2_cvssData.version</th>\n",
              "      <th>...</th>\n",
              "      <th>metrics_cvssMetricV2_cvssData.authentication</th>\n",
              "      <th>metrics_cvssMetricV2_cvssData.confidentialityImpact</th>\n",
              "      <th>metrics_cvssMetricV2_cvssData.integrityImpact</th>\n",
              "      <th>metrics_cvssMetricV2_cvssData.availabilityImpact</th>\n",
              "      <th>metrics_cvssMetricV2_cvssData.baseScore</th>\n",
              "      <th>references_url</th>\n",
              "      <th>references_source</th>\n",
              "      <th>published_year</th>\n",
              "      <th>published_month</th>\n",
              "      <th>published_day</th>\n",
              "    </tr>\n",
              "  </thead>\n",
              "  <tbody>\n",
              "    <tr>\n",
              "      <th>0</th>\n",
              "      <td>CVE-1999-0001</td>\n",
              "      <td>cve@mitre.org</td>\n",
              "      <td>1999-12-30 05:00:00+00:00</td>\n",
              "      <td>2010-12-16 05:00:00+00:00</td>\n",
              "      <td>Analyzed</td>\n",
              "      <td>ip_input.c in BSD-derived TCP/IP implementatio...</td>\n",
              "      <td>MEDIUM</td>\n",
              "      <td>10.0</td>\n",
              "      <td>2.9</td>\n",
              "      <td>2.0</td>\n",
              "      <td>...</td>\n",
              "      <td>NONE</td>\n",
              "      <td>NONE</td>\n",
              "      <td>NONE</td>\n",
              "      <td>PARTIAL</td>\n",
              "      <td>5.0</td>\n",
              "      <td>http://www.openbsd.org/errata23.html#tcpfix</td>\n",
              "      <td>cve@mitre.org</td>\n",
              "      <td>1999</td>\n",
              "      <td>12</td>\n",
              "      <td>30</td>\n",
              "    </tr>\n",
              "    <tr>\n",
              "      <th>1</th>\n",
              "      <td>CVE-1999-0001</td>\n",
              "      <td>cve@mitre.org</td>\n",
              "      <td>1999-12-30 05:00:00+00:00</td>\n",
              "      <td>2010-12-16 05:00:00+00:00</td>\n",
              "      <td>Analyzed</td>\n",
              "      <td>ip_input.c in BSD-derived TCP/IP implementatio...</td>\n",
              "      <td>MEDIUM</td>\n",
              "      <td>10.0</td>\n",
              "      <td>2.9</td>\n",
              "      <td>2.0</td>\n",
              "      <td>...</td>\n",
              "      <td>NONE</td>\n",
              "      <td>NONE</td>\n",
              "      <td>NONE</td>\n",
              "      <td>PARTIAL</td>\n",
              "      <td>5.0</td>\n",
              "      <td>http://www.osvdb.org/5707</td>\n",
              "      <td>cve@mitre.org</td>\n",
              "      <td>1999</td>\n",
              "      <td>12</td>\n",
              "      <td>30</td>\n",
              "    </tr>\n",
              "    <tr>\n",
              "      <th>2</th>\n",
              "      <td>CVE-1999-0002</td>\n",
              "      <td>cve@mitre.org</td>\n",
              "      <td>1998-10-12 04:00:00+00:00</td>\n",
              "      <td>2009-01-26 05:00:00+00:00</td>\n",
              "      <td>Analyzed</td>\n",
              "      <td>Buffer overflow in NFS mountd gives root acces...</td>\n",
              "      <td>HIGH</td>\n",
              "      <td>10.0</td>\n",
              "      <td>10.0</td>\n",
              "      <td>2.0</td>\n",
              "      <td>...</td>\n",
              "      <td>NONE</td>\n",
              "      <td>COMPLETE</td>\n",
              "      <td>COMPLETE</td>\n",
              "      <td>COMPLETE</td>\n",
              "      <td>10.0</td>\n",
              "      <td>ftp://patches.sgi.com/support/free/security/ad...</td>\n",
              "      <td>cve@mitre.org</td>\n",
              "      <td>1998</td>\n",
              "      <td>10</td>\n",
              "      <td>12</td>\n",
              "    </tr>\n",
              "    <tr>\n",
              "      <th>3</th>\n",
              "      <td>CVE-1999-0002</td>\n",
              "      <td>cve@mitre.org</td>\n",
              "      <td>1998-10-12 04:00:00+00:00</td>\n",
              "      <td>2009-01-26 05:00:00+00:00</td>\n",
              "      <td>Analyzed</td>\n",
              "      <td>Buffer overflow in NFS mountd gives root acces...</td>\n",
              "      <td>HIGH</td>\n",
              "      <td>10.0</td>\n",
              "      <td>10.0</td>\n",
              "      <td>2.0</td>\n",
              "      <td>...</td>\n",
              "      <td>NONE</td>\n",
              "      <td>COMPLETE</td>\n",
              "      <td>COMPLETE</td>\n",
              "      <td>COMPLETE</td>\n",
              "      <td>10.0</td>\n",
              "      <td>http://www.ciac.org/ciac/bulletins/j-006.shtml</td>\n",
              "      <td>cve@mitre.org</td>\n",
              "      <td>1998</td>\n",
              "      <td>10</td>\n",
              "      <td>12</td>\n",
              "    </tr>\n",
              "    <tr>\n",
              "      <th>4</th>\n",
              "      <td>CVE-1999-0002</td>\n",
              "      <td>cve@mitre.org</td>\n",
              "      <td>1998-10-12 04:00:00+00:00</td>\n",
              "      <td>2009-01-26 05:00:00+00:00</td>\n",
              "      <td>Analyzed</td>\n",
              "      <td>Buffer overflow in NFS mountd gives root acces...</td>\n",
              "      <td>HIGH</td>\n",
              "      <td>10.0</td>\n",
              "      <td>10.0</td>\n",
              "      <td>2.0</td>\n",
              "      <td>...</td>\n",
              "      <td>NONE</td>\n",
              "      <td>COMPLETE</td>\n",
              "      <td>COMPLETE</td>\n",
              "      <td>COMPLETE</td>\n",
              "      <td>10.0</td>\n",
              "      <td>http://www.securityfocus.com/bid/121</td>\n",
              "      <td>cve@mitre.org</td>\n",
              "      <td>1998</td>\n",
              "      <td>10</td>\n",
              "      <td>12</td>\n",
              "    </tr>\n",
              "  </tbody>\n",
              "</table>\n",
              "<p>5 rows × 23 columns</p>\n",
              "</div>\n",
              "    <div class=\"colab-df-buttons\">\n",
              "\n",
              "  <div class=\"colab-df-container\">\n",
              "    <button class=\"colab-df-convert\" onclick=\"convertToInteractive('df-243dbd17-25b4-43ca-9ac5-20f5fb295a70')\"\n",
              "            title=\"Convert this dataframe to an interactive table.\"\n",
              "            style=\"display:none;\">\n",
              "\n",
              "  <svg xmlns=\"http://www.w3.org/2000/svg\" height=\"24px\" viewBox=\"0 -960 960 960\">\n",
              "    <path d=\"M120-120v-720h720v720H120Zm60-500h600v-160H180v160Zm220 220h160v-160H400v160Zm0 220h160v-160H400v160ZM180-400h160v-160H180v160Zm440 0h160v-160H620v160ZM180-180h160v-160H180v160Zm440 0h160v-160H620v160Z\"/>\n",
              "  </svg>\n",
              "    </button>\n",
              "\n",
              "  <style>\n",
              "    .colab-df-container {\n",
              "      display:flex;\n",
              "      gap: 12px;\n",
              "    }\n",
              "\n",
              "    .colab-df-convert {\n",
              "      background-color: #E8F0FE;\n",
              "      border: none;\n",
              "      border-radius: 50%;\n",
              "      cursor: pointer;\n",
              "      display: none;\n",
              "      fill: #1967D2;\n",
              "      height: 32px;\n",
              "      padding: 0 0 0 0;\n",
              "      width: 32px;\n",
              "    }\n",
              "\n",
              "    .colab-df-convert:hover {\n",
              "      background-color: #E2EBFA;\n",
              "      box-shadow: 0px 1px 2px rgba(60, 64, 67, 0.3), 0px 1px 3px 1px rgba(60, 64, 67, 0.15);\n",
              "      fill: #174EA6;\n",
              "    }\n",
              "\n",
              "    .colab-df-buttons div {\n",
              "      margin-bottom: 4px;\n",
              "    }\n",
              "\n",
              "    [theme=dark] .colab-df-convert {\n",
              "      background-color: #3B4455;\n",
              "      fill: #D2E3FC;\n",
              "    }\n",
              "\n",
              "    [theme=dark] .colab-df-convert:hover {\n",
              "      background-color: #434B5C;\n",
              "      box-shadow: 0px 1px 3px 1px rgba(0, 0, 0, 0.15);\n",
              "      filter: drop-shadow(0px 1px 2px rgba(0, 0, 0, 0.3));\n",
              "      fill: #FFFFFF;\n",
              "    }\n",
              "  </style>\n",
              "\n",
              "    <script>\n",
              "      const buttonEl =\n",
              "        document.querySelector('#df-243dbd17-25b4-43ca-9ac5-20f5fb295a70 button.colab-df-convert');\n",
              "      buttonEl.style.display =\n",
              "        google.colab.kernel.accessAllowed ? 'block' : 'none';\n",
              "\n",
              "      async function convertToInteractive(key) {\n",
              "        const element = document.querySelector('#df-243dbd17-25b4-43ca-9ac5-20f5fb295a70');\n",
              "        const dataTable =\n",
              "          await google.colab.kernel.invokeFunction('convertToInteractive',\n",
              "                                                    [key], {});\n",
              "        if (!dataTable) return;\n",
              "\n",
              "        const docLinkHtml = 'Like what you see? Visit the ' +\n",
              "          '<a target=\"_blank\" href=https://colab.research.google.com/notebooks/data_table.ipynb>data table notebook</a>'\n",
              "          + ' to learn more about interactive tables.';\n",
              "        element.innerHTML = '';\n",
              "        dataTable['output_type'] = 'display_data';\n",
              "        await google.colab.output.renderOutput(dataTable, element);\n",
              "        const docLink = document.createElement('div');\n",
              "        docLink.innerHTML = docLinkHtml;\n",
              "        element.appendChild(docLink);\n",
              "      }\n",
              "    </script>\n",
              "  </div>\n",
              "\n",
              "\n",
              "<div id=\"df-2578c059-12e4-4995-ba52-ced12be2e273\">\n",
              "  <button class=\"colab-df-quickchart\" onclick=\"quickchart('df-2578c059-12e4-4995-ba52-ced12be2e273')\"\n",
              "            title=\"Suggest charts\"\n",
              "            style=\"display:none;\">\n",
              "\n",
              "<svg xmlns=\"http://www.w3.org/2000/svg\" height=\"24px\"viewBox=\"0 0 24 24\"\n",
              "     width=\"24px\">\n",
              "    <g>\n",
              "        <path d=\"M19 3H5c-1.1 0-2 .9-2 2v14c0 1.1.9 2 2 2h14c1.1 0 2-.9 2-2V5c0-1.1-.9-2-2-2zM9 17H7v-7h2v7zm4 0h-2V7h2v10zm4 0h-2v-4h2v4z\"/>\n",
              "    </g>\n",
              "</svg>\n",
              "  </button>\n",
              "\n",
              "<style>\n",
              "  .colab-df-quickchart {\n",
              "      --bg-color: #E8F0FE;\n",
              "      --fill-color: #1967D2;\n",
              "      --hover-bg-color: #E2EBFA;\n",
              "      --hover-fill-color: #174EA6;\n",
              "      --disabled-fill-color: #AAA;\n",
              "      --disabled-bg-color: #DDD;\n",
              "  }\n",
              "\n",
              "  [theme=dark] .colab-df-quickchart {\n",
              "      --bg-color: #3B4455;\n",
              "      --fill-color: #D2E3FC;\n",
              "      --hover-bg-color: #434B5C;\n",
              "      --hover-fill-color: #FFFFFF;\n",
              "      --disabled-bg-color: #3B4455;\n",
              "      --disabled-fill-color: #666;\n",
              "  }\n",
              "\n",
              "  .colab-df-quickchart {\n",
              "    background-color: var(--bg-color);\n",
              "    border: none;\n",
              "    border-radius: 50%;\n",
              "    cursor: pointer;\n",
              "    display: none;\n",
              "    fill: var(--fill-color);\n",
              "    height: 32px;\n",
              "    padding: 0;\n",
              "    width: 32px;\n",
              "  }\n",
              "\n",
              "  .colab-df-quickchart:hover {\n",
              "    background-color: var(--hover-bg-color);\n",
              "    box-shadow: 0 1px 2px rgba(60, 64, 67, 0.3), 0 1px 3px 1px rgba(60, 64, 67, 0.15);\n",
              "    fill: var(--button-hover-fill-color);\n",
              "  }\n",
              "\n",
              "  .colab-df-quickchart-complete:disabled,\n",
              "  .colab-df-quickchart-complete:disabled:hover {\n",
              "    background-color: var(--disabled-bg-color);\n",
              "    fill: var(--disabled-fill-color);\n",
              "    box-shadow: none;\n",
              "  }\n",
              "\n",
              "  .colab-df-spinner {\n",
              "    border: 2px solid var(--fill-color);\n",
              "    border-color: transparent;\n",
              "    border-bottom-color: var(--fill-color);\n",
              "    animation:\n",
              "      spin 1s steps(1) infinite;\n",
              "  }\n",
              "\n",
              "  @keyframes spin {\n",
              "    0% {\n",
              "      border-color: transparent;\n",
              "      border-bottom-color: var(--fill-color);\n",
              "      border-left-color: var(--fill-color);\n",
              "    }\n",
              "    20% {\n",
              "      border-color: transparent;\n",
              "      border-left-color: var(--fill-color);\n",
              "      border-top-color: var(--fill-color);\n",
              "    }\n",
              "    30% {\n",
              "      border-color: transparent;\n",
              "      border-left-color: var(--fill-color);\n",
              "      border-top-color: var(--fill-color);\n",
              "      border-right-color: var(--fill-color);\n",
              "    }\n",
              "    40% {\n",
              "      border-color: transparent;\n",
              "      border-right-color: var(--fill-color);\n",
              "      border-top-color: var(--fill-color);\n",
              "    }\n",
              "    60% {\n",
              "      border-color: transparent;\n",
              "      border-right-color: var(--fill-color);\n",
              "    }\n",
              "    80% {\n",
              "      border-color: transparent;\n",
              "      border-right-color: var(--fill-color);\n",
              "      border-bottom-color: var(--fill-color);\n",
              "    }\n",
              "    90% {\n",
              "      border-color: transparent;\n",
              "      border-bottom-color: var(--fill-color);\n",
              "    }\n",
              "  }\n",
              "</style>\n",
              "\n",
              "  <script>\n",
              "    async function quickchart(key) {\n",
              "      const quickchartButtonEl =\n",
              "        document.querySelector('#' + key + ' button');\n",
              "      quickchartButtonEl.disabled = true;  // To prevent multiple clicks.\n",
              "      quickchartButtonEl.classList.add('colab-df-spinner');\n",
              "      try {\n",
              "        const charts = await google.colab.kernel.invokeFunction(\n",
              "            'suggestCharts', [key], {});\n",
              "      } catch (error) {\n",
              "        console.error('Error during call to suggestCharts:', error);\n",
              "      }\n",
              "      quickchartButtonEl.classList.remove('colab-df-spinner');\n",
              "      quickchartButtonEl.classList.add('colab-df-quickchart-complete');\n",
              "    }\n",
              "    (() => {\n",
              "      let quickchartButtonEl =\n",
              "        document.querySelector('#df-2578c059-12e4-4995-ba52-ced12be2e273 button');\n",
              "      quickchartButtonEl.style.display =\n",
              "        google.colab.kernel.accessAllowed ? 'block' : 'none';\n",
              "    })();\n",
              "  </script>\n",
              "</div>\n",
              "\n",
              "    </div>\n",
              "  </div>\n"
            ],
            "application/vnd.google.colaboratory.intrinsic+json": {
              "type": "dataframe",
              "variable_name": "data"
            }
          },
          "metadata": {},
          "execution_count": 4
        }
      ]
    },
    {
      "cell_type": "code",
      "source": [
        "# Preprocess descriptions (convert to lowercase, remove special characters)\n",
        "def preprocess_text(text):\n",
        "    text = text.lower()\n",
        "    text = re.sub(r'[^a-zA-Z0-9\\s]', '', text)\n",
        "    return text\n",
        "\n",
        "data['cleaned_description'] = data['description'].apply(preprocess_text)"
      ],
      "metadata": {
        "colab": {
          "base_uri": "https://localhost:8080/"
        },
        "id": "Jm6ZFgdbDEjT",
        "outputId": "8bedba7b-cd1c-4fae-9377-30160f9e3b9c"
      },
      "execution_count": null,
      "outputs": [
        {
          "output_type": "stream",
          "name": "stderr",
          "text": [
            "/usr/local/lib/python3.10/dist-packages/ipykernel/ipkernel.py:283: DeprecationWarning: `should_run_async` will not call `transform_cell` automatically in the future. Please pass the result to `transformed_cell` argument and any exception that happen during thetransform in `preprocessing_exc_tuple` in IPython 7.17 and above.\n",
            "  and should_run_async(code)\n"
          ]
        }
      ]
    },
    {
      "cell_type": "code",
      "source": [
        "# Save the processed file\n",
        "processed_file_path = '/content/drive/MyDrive/data/cve/cve-processed-flattened-cleaned.csv'\n",
        "data.to_csv(processed_file_path, index=False)"
      ],
      "metadata": {
        "colab": {
          "base_uri": "https://localhost:8080/"
        },
        "id": "ly1ETaUNGMAm",
        "outputId": "652517cd-85a6-4a22-bfa4-7e6c31df36dd"
      },
      "execution_count": null,
      "outputs": [
        {
          "output_type": "stream",
          "name": "stderr",
          "text": [
            "/usr/local/lib/python3.10/dist-packages/ipykernel/ipkernel.py:283: DeprecationWarning: `should_run_async` will not call `transform_cell` automatically in the future. Please pass the result to `transformed_cell` argument and any exception that happen during thetransform in `preprocessing_exc_tuple` in IPython 7.17 and above.\n",
            "  and should_run_async(code)\n"
          ]
        }
      ]
    },
    {
      "cell_type": "code",
      "source": [
        "# Vectorize the text data\n",
        "vectorizer = CountVectorizer(stop_words='english', max_features=1000)\n",
        "text_vectorized = vectorizer.fit_transform(data['cleaned_description'])"
      ],
      "metadata": {
        "colab": {
          "base_uri": "https://localhost:8080/"
        },
        "id": "EbsOassQGj4X",
        "outputId": "09913c74-bc01-468a-fe04-8cc516bb2b15"
      },
      "execution_count": null,
      "outputs": [
        {
          "output_type": "stream",
          "name": "stderr",
          "text": [
            "/usr/local/lib/python3.10/dist-packages/ipykernel/ipkernel.py:283: DeprecationWarning: `should_run_async` will not call `transform_cell` automatically in the future. Please pass the result to `transformed_cell` argument and any exception that happen during thetransform in `preprocessing_exc_tuple` in IPython 7.17 and above.\n",
            "  and should_run_async(code)\n"
          ]
        }
      ]
    },
    {
      "cell_type": "code",
      "source": [
        "# Function to compute coherence score\n",
        "def compute_coherence_values(dictionary, corpus, texts, limit, start=2, step=1):\n",
        "    coherence_values = []\n",
        "    model_list = []\n",
        "    for num_topics in range(start, limit, step):\n",
        "        model = LatentDirichletAllocation(n_components=num_topics, random_state=42)\n",
        "        model.fit(text_vectorized)\n",
        "        model_list.append(model)\n",
        "\n",
        "        topics = []\n",
        "        for topic_idx, topic in enumerate(model.components_):\n",
        "            topics.append([vectorizer.get_feature_names_out()[i] for i in topic.argsort()[:-10 - 1:-1]])\n",
        "\n",
        "        # Compute coherence score\n",
        "        cm = CoherenceModel(topics=topics, texts=texts, dictionary=dictionary, coherence='c_v')\n",
        "        coherence_values.append(cm.get_coherence())\n",
        "\n",
        "    return model_list, coherence_values\n",
        "\n",
        "# Convert preprocessed text to list of words\n",
        "data_words = [text.split() for text in data['cleaned_description']]\n",
        "\n",
        "# Create Dictionary and Corpus required for coherence model\n",
        "dictionary = Dictionary(data_words)\n",
        "corpus = [dictionary.doc2bow(text) for text in data_words]\n",
        "\n",
        "# Compute coherence values\n",
        "start, limit, step = 2, 20, 2\n",
        "model_list, coherence_values = compute_coherence_values(dictionary, corpus, data_words, limit, start, step)\n",
        "\n",
        "# Plot coherence scores\n",
        "x = range(start, limit, step)\n",
        "plt.plot(x, coherence_values)\n",
        "plt.xlabel(\"Number of Topics\")\n",
        "plt.ylabel(\"Coherence Score\")\n",
        "plt.title(\"Coherence Scores by Number of Topics\")\n",
        "plt.show()"
      ],
      "metadata": {
        "colab": {
          "base_uri": "https://localhost:8080/",
          "height": 527
        },
        "id": "7f-SkSNoGnQO",
        "outputId": "d69a36f7-de62-4edf-a4fb-5962a0ae377c"
      },
      "execution_count": null,
      "outputs": [
        {
          "output_type": "stream",
          "name": "stderr",
          "text": [
            "/usr/local/lib/python3.10/dist-packages/ipykernel/ipkernel.py:283: DeprecationWarning: `should_run_async` will not call `transform_cell` automatically in the future. Please pass the result to `transformed_cell` argument and any exception that happen during thetransform in `preprocessing_exc_tuple` in IPython 7.17 and above.\n",
            "  and should_run_async(code)\n"
          ]
        },
        {
          "output_type": "display_data",
          "data": {
            "text/plain": [
              "<Figure size 640x480 with 1 Axes>"
            ],
            "image/png": "[encoded data removed]"
          },
          "metadata": {}
        }
      ]
    },
    {
      "cell_type": "code",
      "source": [
        "# Select the model with the highest coherence score\n",
        "optimal_num_topics = x[np.argmax(coherence_values)]\n",
        "optimal_model = model_list[np.argmax(coherence_values)]\n",
        "print(f'Optimal number of topics: {optimal_num_topics}')"
      ],
      "metadata": {
        "id": "ZEzUd1xjGtl2",
        "colab": {
          "base_uri": "https://localhost:8080/"
        },
        "outputId": "97b7fa88-ec88-4121-b680-fe0c80c0093e"
      },
      "execution_count": null,
      "outputs": [
        {
          "output_type": "stream",
          "name": "stdout",
          "text": [
            "Optimal number of topics: 14\n"
          ]
        },
        {
          "output_type": "stream",
          "name": "stderr",
          "text": [
            "/usr/local/lib/python3.10/dist-packages/ipykernel/ipkernel.py:283: DeprecationWarning: `should_run_async` will not call `transform_cell` automatically in the future. Please pass the result to `transformed_cell` argument and any exception that happen during thetransform in `preprocessing_exc_tuple` in IPython 7.17 and above.\n",
            "  and should_run_async(code)\n"
          ]
        }
      ]
    },
    {
      "cell_type": "code",
      "source": [
        "# Get the topic distribution for each document\n",
        "topic_distribution = optimal_model.transform(text_vectorized)\n",
        "\n",
        "# Assign the most likely topic to each document\n",
        "data['dominant_topic'] = topic_distribution.argmax(axis=1)\n",
        "\n",
        "# Save the DataFrame with the assigned topics\n",
        "processed_file_with_topics_path = '/content/drive/MyDrive/data/cve/cve-processed-flattened-with-topics.csv'\n",
        "data.to_csv(processed_file_with_topics_path, index=False)"
      ],
      "metadata": {
        "id": "KVz95MqIHX3f",
        "colab": {
          "base_uri": "https://localhost:8080/"
        },
        "outputId": "85c19e3c-0008-4ea7-e5ca-26c71887ca27"
      },
      "execution_count": null,
      "outputs": [
        {
          "output_type": "stream",
          "name": "stderr",
          "text": [
            "/usr/local/lib/python3.10/dist-packages/ipykernel/ipkernel.py:283: DeprecationWarning: `should_run_async` will not call `transform_cell` automatically in the future. Please pass the result to `transformed_cell` argument and any exception that happen during thetransform in `preprocessing_exc_tuple` in IPython 7.17 and above.\n",
            "  and should_run_async(code)\n"
          ]
        }
      ]
    },
    {
      "cell_type": "code",
      "source": [
        "from wordcloud import WordCloud\n",
        "\n",
        "# Generate and save word clouds for each topic\n",
        "for topic in range(optimal_num_topics):\n",
        "    topic_words = ' '.join(data.loc[data['dominant_topic'] == topic, 'cleaned_description'])\n",
        "    wordcloud = WordCloud(width=800, height=400, background_color='white').generate(topic_words)\n",
        "    wordcloud.to_file(f'/content/drive/MyDrive/data/cve/wordcloud_topic_{topic}.png')"
      ],
      "metadata": {
        "id": "NI16NlQWIK-e",
        "colab": {
          "base_uri": "https://localhost:8080/"
        },
        "outputId": "d947a608-a484-4b4f-97fc-36b38e9b0593"
      },
      "execution_count": null,
      "outputs": [
        {
          "output_type": "stream",
          "name": "stderr",
          "text": [
            "/usr/local/lib/python3.10/dist-packages/ipykernel/ipkernel.py:283: DeprecationWarning: `should_run_async` will not call `transform_cell` automatically in the future. Please pass the result to `transformed_cell` argument and any exception that happen during thetransform in `preprocessing_exc_tuple` in IPython 7.17 and above.\n",
            "  and should_run_async(code)\n"
          ]
        }
      ]
    },
    {
      "cell_type": "code",
      "source": [
        "# prompt: lets print the unique topics,asper our results Optimal number of topics: 14\n",
        "\n",
        "# Print the top words for each topic\n",
        "for topic_idx, topic in enumerate(optimal_model.components_):\n",
        "    print(f\"Topic #{topic_idx}:\")\n",
        "    print(\" \".join([vectorizer.get_feature_names_out()[i] for i in topic.argsort()[:-10 - 1:-1]]))\n",
        "    print()\n"
      ],
      "metadata": {
        "colab": {
          "base_uri": "https://localhost:8080/"
        },
        "id": "-7EUDMjUwJ3A",
        "outputId": "733fc31c-e6da-41e4-eb17-06382363c81a"
      },
      "execution_count": null,
      "outputs": [
        {
          "output_type": "stream",
          "name": "stdout",
          "text": [
            "Topic #0:\n",
            "service cause denial allows attackers remote crash application os server\n",
            "\n",
            "Topic #1:\n",
            "php remote parameter code execute arbitrary file attackers url vulnerabilities\n",
            "\n",
            "Topic #2:\n",
            "sql commands execute injection arbitrary attackers parameter remote allows vulnerability\n",
            "\n",
            "Topic #3:\n",
            "script crosssite web scripting xss html remote arbitrary attackers inject\n",
            "\n",
            "Topic #4:\n",
            "information sensitive obtain jre java earlier allows attackers update remote\n",
            "\n",
            "Topic #5:\n",
            "unspecified vectors unknown vulnerability oracle attack related impact server remote\n",
            "\n",
            "Topic #6:\n",
            "code execute arbitrary overflow buffer attackers allows remote function crafted\n",
            "\n",
            "Topic #7:\n",
            "cause service denial allows crash memory attackers function remote possibly\n",
            "\n",
            "Topic #8:\n",
            "users local allows privileges gain files file linux arbitrary kernel\n",
            "\n",
            "Topic #9:\n",
            "mozilla firefox attackers remote allows seamonkey thunderbird javascript attacks conduct\n",
            "\n",
            "Topic #10:\n",
            "files directory dot remote allows attackers arbitrary traversal vulnerability read\n",
            "\n",
            "Topic #11:\n",
            "windows microsoft vulnerability sp2 internet 2000 sp1 server attackers 2003\n",
            "\n",
            "Topic #12:\n",
            "allows remote attackers bypass access authentication does password request user\n",
            "\n",
            "Topic #13:\n",
            "buffer long execute arbitrary code remote attackers overflow multiple overflows\n",
            "\n"
          ]
        },
        {
          "output_type": "stream",
          "name": "stderr",
          "text": [
            "/usr/local/lib/python3.10/dist-packages/ipykernel/ipkernel.py:283: DeprecationWarning: `should_run_async` will not call `transform_cell` automatically in the future. Please pass the result to `transformed_cell` argument and any exception that happen during thetransform in `preprocessing_exc_tuple` in IPython 7.17 and above.\n",
            "  and should_run_async(code)\n"
          ]
        }
      ]
    },
    {
      "cell_type": "code",
      "source": [
        "# Define the topic labels based on the topics\n",
        "topic_labels = {\n",
        "    0: \"Denial of Service\",\n",
        "    1: \"PHP Remote Execution\",\n",
        "    2: \"SQL Injection\",\n",
        "    3: \"Cross-site Scripting (XSS)\",\n",
        "    4: \"Sensitive Information\",\n",
        "    5: \"Unspecified Vulnerabilities\",\n",
        "    6: \"Buffer Overflow\",\n",
        "    7: \"Service Denial (Crash)\",\n",
        "    8: \"Privilege Escalation\",\n",
        "    9: \"Mozilla Exploits\",\n",
        "    10: \"Directory Traversal\",\n",
        "    11: \"Windows Vulnerabilities\",\n",
        "    12: \"Authentication Bypass\",\n",
        "    13: \"Multiple Overflows\"\n",
        "}\n",
        "\n",
        "# Assuming you have the dominant topic already assigned in the DataFrame\n",
        "# Map the numeric topic to the corresponding label\n",
        "data['topic_label'] = data['dominant_topic'].map(topic_labels)\n",
        "\n",
        "# Save the DataFrame with the topic labels\n",
        "processed_file_with_labels_path = '/content/drive/MyDrive/data/cve/cve-processed-flattened-with-topic-labels.csv'\n",
        "data.to_csv(processed_file_with_labels_path, index=False)\n",
        "\n",
        "print(\"Data with topic labels saved successfully.\")\n",
        "\n"
      ],
      "metadata": {
        "id": "2FaBP7j9I68Z",
        "colab": {
          "base_uri": "https://localhost:8080/"
        },
        "outputId": "3f380637-ced3-4153-c16c-76198a0f37be"
      },
      "execution_count": null,
      "outputs": [
        {
          "output_type": "stream",
          "name": "stderr",
          "text": [
            "/usr/local/lib/python3.10/dist-packages/ipykernel/ipkernel.py:283: DeprecationWarning: `should_run_async` will not call `transform_cell` automatically in the future. Please pass the result to `transformed_cell` argument and any exception that happen during thetransform in `preprocessing_exc_tuple` in IPython 7.17 and above.\n",
            "  and should_run_async(code)\n"
          ]
        },
        {
          "output_type": "stream",
          "name": "stdout",
          "text": [
            "Data with topic labels saved successfully.\n"
          ]
        }
      ]
    },
    {
      "cell_type": "code",
      "source": [],
      "metadata": {
        "id": "wUPtJquaxVmi"
      },
      "execution_count": null,
      "outputs": []
    }
  ]
}